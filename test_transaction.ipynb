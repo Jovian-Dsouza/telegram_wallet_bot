{
 "cells": [
  {
   "cell_type": "code",
   "execution_count": 1,
   "metadata": {},
   "outputs": [],
   "source": [
    "from web3 import Web3, middleware\n",
    "import time\n",
    "from web3.gas_strategies.time_based import medium_gas_price_strategy\n",
    "from web3.gas_strategies.rpc import rpc_gas_price_strategy\n",
    "\n",
    "# Set up your BSC node URL\n",
    "bsc_node_url = \"https://bsc-testnet.publicnode.com/\"\n",
    "\n",
    "# Your wallet's private key (for demonstration purposes, handle this securely in production)\n",
    "private_key = \"\"\n",
    "\n",
    "# Recipient wallet address\n",
    "recipient_address = \"0x8db7e2f504c915A0aC40176581775c72186F888B\"\n",
    "\n",
    "# Connect to the BSC node\n",
    "web3 = Web3(Web3.HTTPProvider(bsc_node_url))\n",
    "web3.eth.set_gas_price_strategy(rpc_gas_price_strategy)\n",
    "\n",
    "\n"
   ]
  },
  {
   "cell_type": "code",
   "execution_count": 2,
   "metadata": {},
   "outputs": [
    {
     "name": "stdout",
     "output_type": "stream",
     "text": [
      "Gas Limit: 21000, Gas Price: 5000000000\n",
      "Transaction sent: 0xff8f64703fc4db41ccf5880c00d8d3a5627ecc6ccab3cc49ab962776cad3c408\n",
      "AttributeDict({'blockHash': HexBytes('0x521a15961d063c2f53d5c359ba5b5b5c7586ad07ede4941a4df956920794ee20'), 'blockNumber': 32289502, 'contractAddress': None, 'cumulativeGasUsed': 1114159, 'effectiveGasPrice': 5000000000, 'from': '0xa75edB61751C638075547b6b0bb8126849612fA5', 'gasUsed': 21000, 'logs': [], 'logsBloom': HexBytes('0x00000000000000000000000000000000000000000000000000000000000000000000000000000000000000000000000000000000000000000000000000000000000000000000000000000000000000000000000000000000000000000000000000000000000000000000000000000000000000000000000000000000000000000000000000000000000000000000000000000000000000000000000000000000000000000000000000000000000000000000000000000000000000000000000000000000000000000000000000000000000000000000000000000000000000000000000000000000000000000000000000000000000000000000000000000000'), 'status': 1, 'to': '0x8db7e2f504c915A0aC40176581775c72186F888B', 'transactionHash': HexBytes('0xff8f64703fc4db41ccf5880c00d8d3a5627ecc6ccab3cc49ab962776cad3c408'), 'transactionIndex': 13, 'type': 0})\n"
     ]
    }
   ],
   "source": [
    "# Estimate the gas limit for the transaction\n",
    "gas_limit = 2000000\n",
    "gas_limit = web3.eth.estimate_gas({\n",
    "    'to': recipient_address,\n",
    "    'value': web3.to_wei(0.01, 'ether')  # Sending 0.1 BNB (wei units)\n",
    "})\n",
    "\n",
    "# https://web3py.readthedocs.io/en/stable/gas_price.html#gas-price\n",
    "# gas_price = web3.to_wei('5', 'gwei')\n",
    "gas_price = web3.eth.generate_gas_price()\n",
    "\n",
    "print(f\"Gas Limit: {gas_limit}, Gas Price: {gas_price}\")\n",
    "# Create a transaction\n",
    "nonce = web3.eth.get_transaction_count(\"0xa75edB61751C638075547b6b0bb8126849612fA5\")\n",
    "transaction = {\n",
    "    'nonce': nonce,\n",
    "    'to': recipient_address,\n",
    "    'value': web3.to_wei(0.01, 'ether'),  # Sending 0.1 BNB (wei units)\n",
    "    'gas': gas_limit,  # Adjust the gas limit as needed\n",
    "    'gasPrice': gas_price,  # Adjust the gas price as needed\n",
    "    'chainId': 97\n",
    "}\n",
    "\n",
    "# Sign the transaction\n",
    "signed_transaction = web3.eth.account.sign_transaction(transaction, private_key)\n",
    "\n",
    "# # Send the transaction\n",
    "tx_hash = web3.eth.send_raw_transaction(signed_transaction.rawTransaction)\n",
    "print(f\"Transaction sent: {web3.to_hex(tx_hash)}\")\n",
    "\n",
    "reciept = web3.eth.wait_for_transaction_receipt(web3.to_hex(tx_hash))\n",
    "print(reciept)"
   ]
  },
  {
   "cell_type": "code",
   "execution_count": 3,
   "metadata": {},
   "outputs": [
    {
     "data": {
      "text/plain": [
       "AttributeDict({'blockHash': HexBytes('0x521a15961d063c2f53d5c359ba5b5b5c7586ad07ede4941a4df956920794ee20'),\n",
       " 'blockNumber': 32289502,\n",
       " 'contractAddress': None,\n",
       " 'cumulativeGasUsed': 1114159,\n",
       " 'effectiveGasPrice': 5000000000,\n",
       " 'from': '0xa75edB61751C638075547b6b0bb8126849612fA5',\n",
       " 'gasUsed': 21000,\n",
       " 'logs': [],\n",
       " 'logsBloom': HexBytes('0x00000000000000000000000000000000000000000000000000000000000000000000000000000000000000000000000000000000000000000000000000000000000000000000000000000000000000000000000000000000000000000000000000000000000000000000000000000000000000000000000000000000000000000000000000000000000000000000000000000000000000000000000000000000000000000000000000000000000000000000000000000000000000000000000000000000000000000000000000000000000000000000000000000000000000000000000000000000000000000000000000000000000000000000000000000000'),\n",
       " 'status': 1,\n",
       " 'to': '0x8db7e2f504c915A0aC40176581775c72186F888B',\n",
       " 'transactionHash': HexBytes('0xff8f64703fc4db41ccf5880c00d8d3a5627ecc6ccab3cc49ab962776cad3c408'),\n",
       " 'transactionIndex': 13,\n",
       " 'type': 0})"
      ]
     },
     "execution_count": 3,
     "metadata": {},
     "output_type": "execute_result"
    }
   ],
   "source": [
    "reciept"
   ]
  },
  {
   "cell_type": "code",
   "execution_count": 7,
   "metadata": {},
   "outputs": [
    {
     "name": "stdout",
     "output_type": "stream",
     "text": [
      "Transaction 0xff8f64703fc4db41ccf5880c00d8d3a5627ecc6ccab3cc49ab962776cad3c408 is Successful\n"
     ]
    }
   ],
   "source": [
    "transactionHash = reciept['transactionHash'].hex()\n",
    "status = \"Successful\" if reciept['status'] == 1 else \"Failed\"\n",
    "print(f\"Transaction {transactionHash} is {status}\")"
   ]
  },
  {
   "cell_type": "code",
   "execution_count": null,
   "metadata": {},
   "outputs": [],
   "source": []
  }
 ],
 "metadata": {
  "kernelspec": {
   "display_name": "telegram",
   "language": "python",
   "name": "python3"
  },
  "language_info": {
   "codemirror_mode": {
    "name": "ipython",
    "version": 3
   },
   "file_extension": ".py",
   "mimetype": "text/x-python",
   "name": "python",
   "nbconvert_exporter": "python",
   "pygments_lexer": "ipython3",
   "version": "3.11.4"
  },
  "orig_nbformat": 4
 },
 "nbformat": 4,
 "nbformat_minor": 2
}
